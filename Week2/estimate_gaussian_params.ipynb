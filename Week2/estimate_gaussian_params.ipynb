{
 "cells": [
  {
   "cell_type": "markdown",
   "metadata": {},
   "source": [
    "## Week 2\n",
    "estimate_gaussian_params"
   ]
  },
  {
   "cell_type": "code",
   "execution_count": 1,
   "metadata": {},
   "outputs": [],
   "source": [
    "import numpy as np\n",
    "import timeit\n",
    "\n",
    "def estimate_gaussian_params(data):\n",
    "    N = len(data)\n",
    "    rvs = {}\n",
    "    rvs['mean'] = np.sum(data)/N \n",
    "    rvs['variance'] = (1/(N-1))*(np.sum((data-rvs['mean'])**2)) # minimizes roundoff error\n",
    "    rvs['std_dev'] = rvs['variance']**0.5\n",
    "    rvs['skew'] = (1/N)*np.sum(((data-rvs['mean'])/rvs['std_dev'])**3)\n",
    "    rvs['kurt'] =  (1/N)*np.sum(((data-rvs['mean'])/rvs['std_dev'])**4)-3 \n",
    "    return rvs\n",
    "\n",
    "def analyze_data():\n",
    "    for fname in [\"data{}.txt\".format(i) for i in range(1,7)]:\n",
    "        with open(fname,'r') as f:\n",
    "            data = []\n",
    "            for line in f.readlines():\n",
    "                data.append(float(line))\n",
    "                assert not data[-1] == np.nan\n",
    "                \n",
    "            print('\\n'+fname+':')\n",
    "            print(\"User Values:\")\n",
    "            for k,v in estimate_gaussian_params(data).items():\n",
    "                print(\"{:10}: {:10.5}  \".format(k,v),end='')\n",
    "# estimate_gaussian_params(1)\n",
    "def print_params(dict):\n",
    "    for k,v in sorted(dict.items()):\n",
    "        print(\"{:>10}: {:<10.5}  \".format(k,float(v)),end='')\n",
    "\n",
    "\n",
    "def check_params(mean=0,std_dev=1,repeats=1):\n",
    "    for _ in range(repeats):\n",
    "        data = np.random.normal(loc= mean,scale = std_dev,size = (1000,))\n",
    "        theory_params ={'mean':mean,'std_dev':std_dev,'variance':std_dev**2,'skew':0,'kurt':0}\n",
    "        print(\"\\nTheoretical  :\",end='')\n",
    "        print_params(theory_params)\n",
    "        print(\"\\nFrom function:\",end='')\n",
    "        print_params(estimate_gaussian_params(data))"
   ]
  },
  {
   "cell_type": "code",
   "execution_count": 2,
   "metadata": {
    "lines_to_next_cell": 0
   },
   "outputs": [
    {
     "name": "stdout",
     "output_type": "stream",
     "text": [
      "\n",
      "Theoretical  :      kurt: 0.0               mean: 0.0               skew: 0.0            std_dev: 1.0           variance: 1.0         \n",
      "From function:      kurt: 0.3394            mean: -0.051881         skew: -0.15228       std_dev: 1.0221        variance: 1.0446      "
     ]
    }
   ],
   "source": [
    "check_params()"
   ]
  },
  {
   "cell_type": "code",
   "execution_count": 3,
   "metadata": {
    "lines_to_next_cell": 0
   },
   "outputs": [
    {
     "name": "stdout",
     "output_type": "stream",
     "text": [
      "\n",
      "Theoretical  :      kurt: 0.0               mean: 5.0               skew: 0.0            std_dev: 10.0          variance: 100.0       \n",
      "From function:      kurt: 0.19995           mean: 5.2136            skew: -0.027241      std_dev: 9.9353        variance: 98.711      "
     ]
    }
   ],
   "source": [
    "check_params(mean=5,std_dev=10)"
   ]
  },
  {
   "cell_type": "code",
   "execution_count": 4,
   "metadata": {},
   "outputs": [
    {
     "name": "stdout",
     "output_type": "stream",
     "text": [
      "\n",
      "Theoretical  :      kurt: 0.0               mean: 100.0             skew: 0.0            std_dev: 1.0           variance: 1.0         \n",
      "From function:      kurt: 0.18844           mean: 100.0             skew: 0.046168       std_dev: 0.99906       variance: 0.99813     "
     ]
    }
   ],
   "source": [
    "check_params(mean=100,std_dev=1)"
   ]
  }
 ],
 "metadata": {
  "jupytext": {
   "main_language": "python",
   "text_representation": {
    "extension": ".py",
    "format_name": "percent"
   }
  },
  "language_info": {
   "codemirror_mode": {
    "name": "ipython",
    "version": 3
   },
   "file_extension": ".py",
   "mimetype": "text/x-python",
   "name": "python",
   "nbconvert_exporter": "python",
   "pygments_lexer": "ipython3",
   "version": "3.7.1"
  }
 },
 "nbformat": 4,
 "nbformat_minor": 2
}
