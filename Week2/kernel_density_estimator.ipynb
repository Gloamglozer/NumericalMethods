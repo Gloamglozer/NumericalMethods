{
 "cells": [
  {
   "cell_type": "code",
   "execution_count": null,
   "metadata": {},
   "outputs": [],
   "source": [
    "import numpy as np\n",
    "import matplotlib.pyplot as plt\n",
    "\n",
    "pi = 3.14156\n",
    "e = 2.71828\n",
    "## getting data\n",
    "def get_data():\n",
    "    data = []\n",
    "    for fname in [\"data{}.txt\".format(i) for i in range(1,7)]:\n",
    "        with open(fname,'r') as f:\n",
    "            this_data = []\n",
    "            for line in f.readlines():\n",
    "                this_data.append(float(line))\n",
    "                assert not this_data[-1] == np.nan\n",
    "            data.append(this_data)\n",
    "    return np.array(data)\n",
    "\n",
    "##Windowing Functions \n",
    "def gaussian(t,h):\n",
    "    return 1/(h*(2*pi)**0.5)*e**(-t**2/(2*h**2))\n",
    "\n",
    "def epanechnikov(t,h):\n",
    "    # note numpy.where serves to vectorize this function scalars must be converted to numpy arrays or else the function will fail\n",
    "    t = np.asarray(t)\n",
    "    h = np.asarray(h)\n",
    "    return np.where(abs(t/h) > 5**0.5,0,(3/4)*(1-(1/5)*(t/h)**2)/5**0.5)\n",
    "\n",
    "def rectangle(t,h):\n",
    "    # note numpy.where serves to vectorize this function. scalars must be converted to numpy arrays or else the function will fail\n",
    "    t = np.asarray(t)\n",
    "    h = np.asarray(h)\n",
    "    return np.where( abs(t) > h, 0 ,1/(2*h))\n",
    "\n",
    "def kernel_density_estimator(data,h,f=None,num_pts = 200,return_f=False):\n",
    "    '''\n",
    "    `data`      -- 1-D vector of numpy data\n",
    "    `h`         -- smoothing bandwidth\n",
    "    `f`         -- windowing function\n",
    "    `num_pts`   -- number of points to use to show trace\n",
    "    `return_f`  -- whether or not to return a function rather than trace data\n",
    "    '''\n",
    "    assert h>0 , \"Bandwidth must be a positive number\"\n",
    "    if f is None: # default function is epanechnikov\n",
    "        f = epanechnikov\n",
    "    N = len(data)\n",
    "    x_pts = np.linspace(np.amin(data),np.amax(data),num_pts)\n",
    "    return x_pts,np.array([(1/N)*np.sum(f(data-x,h)) for x in x_pts]) # I could have made this a one liner... Forgive me Guido for I have sinned"
   ]
  },
  {
   "cell_type": "code",
   "execution_count": null,
   "metadata": {},
   "outputs": [],
   "source": [
    "data = get_data()\n",
    "which_data = 2\n",
    "num_pts = 1000"
   ]
  },
  {
   "cell_type": "code",
   "execution_count": null,
   "metadata": {
    "lines_to_next_cell": 0
   },
   "outputs": [],
   "source": [
    "# epannechnikov? I hardly know her\n",
    "fig,ax1 =plt.subplots()\n",
    "ax2 = ax1.twinx()\n",
    "x,y = kernel_density_estimator(data[which_data],.1,num_pts=num_pts)\n",
    "ax1.hist(data[which_data])\n",
    "ax2.plot(x,y,color='k')\n",
    "plt.show()\n",
    "        \n",
    "# Gaussian\n",
    "fig,ax1 =plt.subplots()\n",
    "ax2 = ax1.twinx()\n",
    "x,y = kernel_density_estimator(data[which_data],.1,f=gaussian,num_pts=num_pts)\n",
    "ax1.hist(data[which_data])\n",
    "ax2.plot(x,y,color='k')\n",
    "plt.show()"
   ]
  },
  {
   "cell_type": "code",
   "execution_count": null,
   "metadata": {},
   "outputs": [],
   "source": [
    "# \n",
    "fig,ax1 =plt.subplots()\n",
    "ax2 = ax1.twinx()\n",
    "x,y = kernel_density_estimator(data[which_data],.1,f=rectangle,num_pts=num_pts)\n",
    "ax1.hist(data[which_data])\n",
    "ax2.plot(x,y,color='k')\n",
    "plt.show()"
   ]
  }
 ],
 "metadata": {
  "jupytext": {
   "main_language": "python",
   "text_representation": {
    "extension": ".py",
    "format_name": "percent"
   }
  }
 },
 "nbformat": 4,
 "nbformat_minor": 2
}
