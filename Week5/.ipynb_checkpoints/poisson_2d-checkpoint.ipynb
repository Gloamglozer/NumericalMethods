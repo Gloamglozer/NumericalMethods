{
 "cells": [
  {
   "cell_type": "code",
   "execution_count": 0,
   "metadata": {},
   "outputs": [],
   "source": [
    "# Change directory to VSCode workspace root so that relative path loads work correctly. Turn this addition off with the DataScience.changeDirOnImportExport setting\n",
    "import os\n",
    "try:\n",
    "\tos.chdir(os.path.join(os.getcwd(), '..'))\n",
    "\tprint(os.getcwd())\n",
    "except:\n",
    "\tpass\n"
   ]
  },
  {
   "cell_type": "markdown",
   "metadata": {},
   "source": [
    "# Week 5"
   ]
  },
  {
   "cell_type": "code",
   "execution_count": 1,
   "metadata": {},
   "outputs": [],
   "source": [
    "# Imports\n",
    "import numpy as np\n",
    "import matplotlib.pyplot as plt\n",
    "import scipy.sparse as sp\n",
    "import scipy.sparse.linalg as spla\n",
    "from tabulate import tabulate"
   ]
  },
  {
   "cell_type": "code",
   "execution_count": 2,
   "metadata": {},
   "outputs": [
    {
     "data": {
      "text/plain": [
       "array([[  0,   1,   2,   3],\n",
       "       [  4, 100, 200,   7],\n",
       "       [  8, 300, 400,  11],\n",
       "       [ 12,  13,  14,  15]])"
      ]
     },
     "execution_count": 2,
     "metadata": {},
     "output_type": "execute_result"
    }
   ],
   "source": [
    "A = np.arange(0,16).reshape((4,4)) # making square matrix\n",
    "A[1:-1,1:-1] = np.arange(100,500,100).reshape((2,2))     # in numpy slices can be assigned to \n",
    "A"
   ]
  },
  {
   "cell_type": "code",
   "execution_count": 3,
   "metadata": {},
   "outputs": [
    {
     "name": "stdout",
     "output_type": "stream",
     "text": [
      "[[0.  0.2 0.4 0.6 0.8 1. ]\n",
      " [0.  0.2 0.4 0.6 0.8 1. ]\n",
      " [0.  0.2 0.4 0.6 0.8 1. ]\n",
      " [0.  0.2 0.4 0.6 0.8 1. ]\n",
      " [0.  0.2 0.4 0.6 0.8 1. ]\n",
      " [0.  0.2 0.4 0.6 0.8 1. ]]\n",
      "[[0.  0.  0.  0.  0.  0. ]\n",
      " [0.2 0.2 0.2 0.2 0.2 0.2]\n",
      " [0.4 0.4 0.4 0.4 0.4 0.4]\n",
      " [0.6 0.6 0.6 0.6 0.6 0.6]\n",
      " [0.8 0.8 0.8 0.8 0.8 0.8]\n",
      " [1.  1.  1.  1.  1.  1. ]]\n"
     ]
    }
   ],
   "source": [
    "N = 6\n",
    "L = 1 \n",
    "H = 1 \n",
    "x,y = np.meshgrid(np.linspace(0,H,N),np.linspace(L,0,N)) # making grid of x,y points\n",
    "y = y[::-1,:] # flipping y vertically as meshgrid doesnt want to make y increasing from top to bottom\n",
    "print(x)\n",
    "print(y)"
   ]
  },
  {
   "cell_type": "code",
   "execution_count": 4,
   "metadata": {},
   "outputs": [
    {
     "data": {
      "text/plain": [
       "array([[1., 1., 1., 1., 1., 1.],\n",
       "       [1., 0., 0., 0., 0., 1.],\n",
       "       [1., 0., 0., 0., 0., 1.],\n",
       "       [1., 0., 0., 0., 0., 1.],\n",
       "       [1., 0., 0., 0., 0., 1.],\n",
       "       [1., 1., 1., 1., 1., 1.]])"
      ]
     },
     "execution_count": 4,
     "metadata": {},
     "output_type": "execute_result"
    }
   ],
   "source": [
    "phi = np.zeros((N,N)) # could make boundary conditions later\n",
    "phi[0,:]  = np.ones(N)\n",
    "phi[-1,:]  = np.ones(N)\n",
    "phi[:,0]  = np.ones(N)\n",
    "phi[:,-1]  = np.ones(N)\n",
    "\n",
    "phi"
   ]
  },
  {
   "cell_type": "code",
   "execution_count": 5,
   "metadata": {},
   "outputs": [],
   "source": [
    "N_i = N-2\n",
    "dx_sq = (L/(N+1))**2\n",
    "dy_sq = (H/(N+1))**2\n",
    "A = sp.diags([-1/dx_sq,-1/dy_sq, 2/dx_sq+2/dy_sq,-1/dy_sq,-1/dx_sq], [-N,-1, 0, 1,N], shape=((N-2)**2, (N-2)**2))"
   ]
  },
  {
   "cell_type": "code",
   "execution_count": 6,
   "metadata": {},
   "outputs": [
    {
     "data": {
      "text/plain": [
       "array([98., 49., 49., 98., 49.,  0.,  0., 49., 49.,  0.,  0., 49., 98.,\n",
       "       49., 49., 98.])"
      ]
     },
     "execution_count": 6,
     "metadata": {},
     "output_type": "execute_result"
    }
   ],
   "source": [
    "\n",
    "b = np.zeros((N-2)**2)\n",
    "b[0             :N_i                    ] += phi[0      ,1:N-1    ]/dx_sq # West\n",
    "b[(N_i)*(N_i-1) :                       ] += phi[-1     ,1:N-1   ]/dx_sq # East\n",
    "b[0             :N_i**2             :N_i] += phi[1:N-1  ,0      ]/dy_sq # South\n",
    "b[N_i-1         :(N_i-1) + N_i**2   :N_i] += phi[1:N-1  ,-1     ]/dy_sq # North\n",
    "b"
   ]
  },
  {
   "cell_type": "code",
   "execution_count": 7,
   "metadata": {},
   "outputs": [],
   "source": [
    "\n",
    "def poisson_2D(s_fun,L,H,num_pts,BCs = None):\n",
    "    ''' \n",
    "    `s_fun` source function, should be of form s(x,y)\n",
    "    `num_pts` - number of divisions used to discretize line\n",
    "    `BCs` - dict of north, east, south, and west values\n",
    "        L or H which define boundary conditions at respective borders\n",
    "    '''\n",
    "    if BCs is None:\n",
    "        BCs = {'n':0,'e':0,'s':0,'w':0}\n",
    "    north,east,south,west = BCs['n'],BCs['e'],BCs['s'],BCs['w']\n",
    "    if num_pts <3:\n",
    "        print(\"Nothing to solve for\")\n",
    "        return\n",
    "    # Initial Constants\n",
    "    N = num_pts # less typing\n",
    "    dx_sq = (L/N)**2\n",
    "    dy_sq = (H/N)**2\n",
    "\n",
    "    # Making intitial arrays of size NxN \n",
    "    # Each of these arrays will be rotated clockwise 90° in order to support efficient unraveling\n",
    "    # [[2,4],       -->     [[1,2]\n",
    "    #  [1,3]]      |         [3,4]]\n",
    "    #               --\n",
    "    # and thus slice assignment can be used to re-populate arrays\n",
    "    x,y = np.meshgrid(np.linspace(0,H,N),np.linspace(L,0,N)) # making grid of x,y points\n",
    "    np.flipud(y) # flipping y vertically as meshgrid doesnt want to make y increasing from top to bottom\n",
    "    phi = np.zeros((N,N)) \n",
    "    # Where boundary conditions would go\n",
    "    #east\n",
    "    phi[0,:]  = np.full(N,east)\n",
    "    #west\n",
    "    phi[-1,:]  = np.full(N,west)\n",
    "    #north\n",
    "    phi[:,-1]  = np.full(N,north)\n",
    "    #south\n",
    "    phi[:,0]  = np.full(N,south)\n",
    "\n",
    "    s = s_fun(x,y) # should give scalar source function with dimension NxN, already rotated\n",
    "    \n",
    "    # Function that returns middle part flattened\n",
    "    flat_insides = lambda a: a[1:-1,1:-1].reshape(-1) \n",
    "\n",
    "    # Making matrix equation\n",
    "    # A does not include outer points of phi\n",
    "    # Note that sign has been swapped, so source is added, and numerical laplacian is negative, \n",
    "    # boundary conditions would have positive sign\n",
    "    N_i = N-2 # dimension of matrix without any outermost entries\n",
    "    A = sp.diags([-1/dx_sq,-1/dy_sq, 2/dx_sq+2/dy_sq,-1/dy_sq,-1/dx_sq], [-N_i,-1, 0, 1,N_i], shape=(N_i**2, N_i**2),format= 'csc')\n",
    "    print(\"A\")\n",
    "    print(A.todense())\n",
    "    b = np.zeros(N_i**2)\n",
    "    b += flat_insides(s) # adding source vector \n",
    "    # Adding boundary conditions\n",
    "    # remember, phi is rotated 90° \n",
    "    b[0             :N_i                    ] += phi[0      ,1:N-1  ]/dx_sq # West\n",
    "    b[(N_i)*(N_i-1) :                       ] += phi[-1     ,1:N-1  ]/dx_sq # East\n",
    "    b[0             :N_i**2             :N_i] += phi[1:N-1  ,0      ]/dy_sq # South\n",
    "    b[N_i-1         :(N_i-1) + N_i**2   :N_i] += phi[1:N-1  ,-1     ]/dy_sq # North\n",
    "\n",
    "    phi[1:-1,1:-1] =  spla.spsolve(A,b.reshape((N_i**2,1))).reshape((N_i,N_i))\n",
    "    # phi[1:-1,1:-1] =  np.linalg.solve(A.todense(),b.reshape((N_i**2,1))).reshape((N_i,N_i))\n",
    "    return np.rot90(phi),np.rot90(s),np.rot90(x),np.rot90(y),b # equivalent of MATLAB backslash\n"
   ]
  },
  {
   "cell_type": "markdown",
   "metadata": {},
   "source": [
    "# Odd problem\n",
    " for some reason, my program seems to be ignoring my north and south boundary conditions...\n",
    " looking at the code below, you can see how the A matrix and B vectors were set up,\n",
    " as well as the resulting Phi matrix. Plotted are Phi on the left and s on the right.\n",
    "# Initial Look:\n",
    " below you can see the aforementioned plots, where top and bottom don't seem to be constrained properly"
   ]
  },
  {
   "cell_type": "code",
   "execution_count": 8,
   "metadata": {},
   "outputs": [
    {
     "name": "stdout",
     "output_type": "stream",
     "text": [
      "A\n",
      "[[ 40000. -10000.      0. ...      0.      0.      0.]\n",
      " [-10000.  40000. -10000. ...      0.      0.      0.]\n",
      " [     0. -10000.  40000. ...      0.      0.      0.]\n",
      " ...\n",
      " [     0.      0.      0. ...  40000. -10000.      0.]\n",
      " [     0.      0.      0. ... -10000.  40000. -10000.]\n",
      " [     0.      0.      0. ...      0. -10000.  40000.]]\n",
      "b\n",
      "[1. 1. 1. ... 1. 1. 1.]\n",
      "phi\n",
      "[[0.         0.         0.         ... 0.         0.         0.        ]\n",
      " [0.         0.00600402 0.01118924 ... 0.00718184 0.0027617  0.        ]\n",
      " [0.         0.00554499 0.01074421 ... 0.00800231 0.00376497 0.        ]\n",
      " ...\n",
      " [0.         0.00376497 0.00800231 ... 0.01074421 0.00554499 0.        ]\n",
      " [0.         0.0027617  0.00718184 ... 0.01118924 0.00600402 0.        ]\n",
      " [0.         0.         0.         ... 0.         0.         0.        ]]\n"
     ]
    },
    {
     "data": {
      "image/png": "[encoded data removed]",
      "text/plain": [
       "<Figure size 432x288 with 1 Axes>"
      ]
     },
     "metadata": {
      "needs_background": "light"
     },
     "output_type": "display_data"
    },
    {
     "data": {
      "image/png": "[encoded data removed]",
      "text/plain": [
       "<Figure size 432x288 with 1 Axes>"
      ]
     },
     "metadata": {
      "needs_background": "light"
     },
     "output_type": "display_data"
    }
   ],
   "source": [
    "source_func = lambda x,y: 0*x*y+1 # zero source function (multiplication for broadcasting)\n",
    "phi,s,x,y,b = poisson_2D(source_func,L=1,H=1,num_pts= 100)\n",
    "# phi,s,x,y,b = poisson_2D(source_func,L=1,H=1,num_pts= 100,BCs = {'n':1,'e':0,'s':1,'w':0})\n",
    "plt.imshow(phi, cmap='hot')\n",
    "plt.show()\n",
    "plt.imshow(s, cmap='winter')\n",
    "plt.show()\n",
    "print('b')\n",
    "print(b)\n",
    "print(\"phi\")\n",
    "print(phi)"
   ]
  },
  {
   "cell_type": "markdown",
   "metadata": {},
   "source": [
    "# Same problem with N_x = N_y = 5 for taking a look at matrices\n",
    " Check out the matrices below, which seem to be properly constructed to me"
   ]
  },
  {
   "cell_type": "code",
   "execution_count": 9,
   "metadata": {},
   "outputs": [
    {
     "name": "stdout",
     "output_type": "stream",
     "text": [
      "A\n",
      "[[100. -25.   0. -25.   0.   0.   0.   0.   0.]\n",
      " [-25. 100. -25.   0. -25.   0.   0.   0.   0.]\n",
      " [  0. -25. 100. -25.   0. -25.   0.   0.   0.]\n",
      " [-25.   0. -25. 100. -25.   0. -25.   0.   0.]\n",
      " [  0. -25.   0. -25. 100. -25.   0. -25.   0.]\n",
      " [  0.   0. -25.   0. -25. 100. -25.   0. -25.]\n",
      " [  0.   0.   0. -25.   0. -25. 100. -25.   0.]\n",
      " [  0.   0.   0.   0. -25.   0. -25. 100. -25.]\n",
      " [  0.   0.   0.   0.   0. -25.   0. -25. 100.]]\n",
      "b\n",
      "[1. 1. 1. 1. 1. 1. 1. 1. 1.]\n",
      "phi\n",
      "[[0.         0.         0.         0.         0.        ]\n",
      " [0.         0.0539759  0.06313253 0.03819277 0.        ]\n",
      " [0.         0.04963855 0.06638554 0.04963855 0.        ]\n",
      " [0.         0.03819277 0.06313253 0.0539759  0.        ]\n",
      " [0.         0.         0.         0.         0.        ]]\n"
     ]
    },
    {
     "data": {
      "image/png": "[encoded data removed]",
      "text/plain": [
       "<Figure size 432x288 with 1 Axes>"
      ]
     },
     "metadata": {
      "needs_background": "light"
     },
     "output_type": "display_data"
    },
    {
     "data": {
      "image/png": "[encoded data removed]",
      "text/plain": [
       "<Figure size 432x288 with 1 Axes>"
      ]
     },
     "metadata": {
      "needs_background": "light"
     },
     "output_type": "display_data"
    }
   ],
   "source": [
    "source_func = lambda x,y: 0*x*y+1 # zero source function (multiplication for broadcasting)\n",
    "phi,s,x,y,b = poisson_2D(source_func,L=1,H=1,num_pts= 5)\n",
    "# phi,s,x,y,b = poisson_2D(source_func,L=1,H=1,num_pts= 100,BCs = {'n':1,'e':0,'s':1,'w':0})\n",
    "plt.imshow(phi, cmap='hot')\n",
    "plt.show()\n",
    "plt.imshow(s, cmap='winter')\n",
    "plt.show()\n",
    "print('b')\n",
    "print(b)\n",
    "print(\"phi\")\n",
    "print(phi)"
   ]
  }
 ],
 "metadata": {
  "file_extension": ".py",
  "kernelspec": {
   "display_name": "Python 3",
   "language": "python",
   "name": "python3"
  },
  "language_info": {
   "codemirror_mode": {
    "name": "ipython",
    "version": 3
   },
   "file_extension": ".py",
   "mimetype": "text/x-python",
   "name": "python",
   "nbconvert_exporter": "python",
   "pygments_lexer": "ipython3",
   "version": "3.7.1"
  },
  "mimetype": "text/x-python",
  "name": "python",
  "npconvert_exporter": "python",
  "pygments_lexer": "ipython3",
  "version": 3
 },
 "nbformat": 4,
 "nbformat_minor": 2
}
