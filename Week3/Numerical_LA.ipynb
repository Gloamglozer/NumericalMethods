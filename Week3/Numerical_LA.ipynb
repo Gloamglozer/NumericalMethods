{
 "cells": [
  {
   "cell_type": "code",
   "execution_count": 1,
   "metadata": {
    "lines_to_next_cell": 2
   },
   "outputs": [],
   "source": [
    "# making some nice printing functions quick\n",
    "import numpy as np\n",
    "from pprint import pprint\n",
    "np.set_printoptions(precision=4)\n",
    "\n",
    "def print_dict(d):\n",
    "    for k,v in d.items():\n",
    "        print(k+':')\n",
    "        pprint(v)\n",
    "    print()"
   ]
  },
  {
   "cell_type": "markdown",
   "metadata": {},
   "source": [
    "# Gaussian Elimination\n",
    "I was suprised at how straightforward and simple it was to make an algorithm capable of solving large systems of \n",
    "linear equations. I had used functions to put an augmented matrix in reduced row echelon format \n",
    "in the past but never implemented my own Gaussian elimination. "
   ]
  },
  {
   "cell_type": "code",
   "execution_count": 2,
   "metadata": {},
   "outputs": [],
   "source": [
    "def gaussian_elimination(A,b):\n",
    "    '''Takes a square matrix and returns it's inverse using gaussian elimination and back substitution'''\n",
    "    a = np.hstack((A,b)) # using augmented matrix\n",
    "    eps = 1e-16\n",
    "    if a.shape[0]+1 != a.shape[1]:\n",
    "        print(\"matrix must be augmented, instead had shape {}\".format(a.shape))\n",
    "        return\n",
    "    n = a.shape[0] # num rows \n",
    "    # intializing permutor matrix\n",
    "    P = np.eye(n)\n",
    "    for c in range(0,n): # only go up to N because we only do elimination in square part\n",
    "\n",
    "    #     #partial pivoting\n",
    "        this_pivot = abs(a[c,c])\n",
    "        maximum = this_pivot\n",
    "        max_r = c\n",
    "        for r in range(c+1,n):\n",
    "            potential_pivot = abs(a[r,c])\n",
    "            if potential_pivot>this_pivot:\n",
    "                maximum = potential_pivot\n",
    "                max_r = r\n",
    "        if max_r!=c: # if we have a swap\n",
    "            # construct row swap matrix\n",
    "            rowswap = np.eye(n)\n",
    "            rowswap[:,(max_r,c)] = rowswap[:,(c,max_r)] # swap corresponding columns to get ith permutor\n",
    "            P = rowswap@P # record the fact that the columns were swapped\n",
    "            a = rowswap@a # go home, turn off your spigot, everybody do the partial pivot\n",
    "\n",
    "        for r in range(c+1,n):\n",
    "            piv = a[c,c] # pivot point\n",
    "            entry = a[r,c] # the value we are trying to eliminate\n",
    "            a[r,:] -= a[c,:]*(entry/piv) # eliminating `entry`\n",
    "\n",
    "    U = a.copy()[:,:-1] # Make upper triangular matrix from a at this at point in time,\n",
    "    c = a.copy()[:,-1].reshape((-1,1)) # as well as the c vector (just the last column of the augmented matrix)\n",
    "\n",
    "    x = np.empty((n,1)) # make an empty column vector of the appropriate size\n",
    "    # Doing back substitution\n",
    "    for i in range(n-1,-1,-1):\n",
    "        x[i] = (a[i,-1]-a[i,i+1:-1]@x[i+1:,0])/a[i,i] \n",
    "        # sub = a[i,i+1:-1]@x[i+1:,0]\n",
    "        # divide the value in the c minus the already solved vars in column vector \n",
    "        # matrix multiplied by the row vector formed by the non pivot entries to the right of the pivot in each column\n",
    "        # divided by the pivot value in the same row \n",
    "\n",
    "    # Note that the rows in X have been swapped if a partial pivot has occurred, undo the swaps so we can return X with the variables\n",
    "    # in the correct columns\n",
    "    return {'x':x,'U':U,'c':c,'P':P}\n",
    "\n",
    "    # Doing Gaussian Elimination on lower triangular matrix\n",
    "    # for c in range(n-1,-1,-1): \n",
    "    #     a[c,:] /= a[c,c] # making pivot point 1 and entry in augmented portion correct\n",
    "    #     for r in range(c-1,-1,-1):\n",
    "    #         a[r,:] -= a[c,:]*a[r,c] # eliminating each entry in the upper portion of the matrix"
   ]
  },
  {
   "cell_type": "code",
   "execution_count": 3,
   "metadata": {},
   "outputs": [
    {
     "name": "stdout",
     "output_type": "stream",
     "text": [
      "x:\n",
      "array([[ 2.],\n",
      "       [ 1.],\n",
      "       [-2.]])\n",
      "U:\n",
      "array([[3.    , 8.    , 1.    ],\n",
      "       [0.    , 4.    , 1.    ],\n",
      "       [0.    , 0.    , 0.8333]])\n",
      "c:\n",
      "array([[12.    ],\n",
      "       [ 2.    ],\n",
      "       [-1.6667]])\n",
      "P:\n",
      "array([[0., 1., 0.],\n",
      "       [0., 0., 1.],\n",
      "       [1., 0., 0.]])\n",
      "\n"
     ]
    }
   ],
   "source": [
    "# Example 6\n",
    "A = np.array([[1,2,1],\\\n",
    "               [3,8,1],\\\n",
    "               [0,4,1]])\n",
    "b = np.array([2,12,2]).reshape((3,1))\n",
    "print_dict(gaussian_elimination(A,b))"
   ]
  },
  {
   "cell_type": "code",
   "execution_count": 4,
   "metadata": {
    "lines_to_next_cell": 0
   },
   "outputs": [
    {
     "name": "stdout",
     "output_type": "stream",
     "text": [
      "x:\n",
      "array([[ 2.],\n",
      "       [ 1.],\n",
      "       [-1.]])\n",
      "U:\n",
      "array([[ 3.    , 14.    , 28.    ],\n",
      "       [ 0.    , -3.3333, -8.6667],\n",
      "       [ 0.    ,  0.    , -2.    ]])\n",
      "c:\n",
      "array([[-8.    ],\n",
      "       [ 5.3333],\n",
      "       [ 2.    ]])\n",
      "P:\n",
      "array([[0., 0., 1.],\n",
      "       [1., 0., 0.],\n",
      "       [0., 1., 0.]])\n",
      "\n"
     ]
    }
   ],
   "source": [
    "# Example 12\n",
    "A = np.array([[2,6,10],\\\n",
    "               [1,3,3],\\\n",
    "               [3,14,28]])\n",
    "b = np.array([0,2,-8]).reshape((3,1))\n",
    "print_dict(gaussian_elimination(A,b)) # pivot on the haters"
   ]
  },
  {
   "cell_type": "markdown",
   "metadata": {},
   "source": [
    "# LU Decomposition\n",
    "This one posed more of a challenge to me. I realized that $L^{-1}$ was built out of all of \n",
    "the ERO matricies cumulatively left multiplying A one after another. This would mean that\n",
    "similarly $L$ was all of the *inverses* of the ERO's cumulatively *right* multiplied to an \n",
    "identity matrix."
   ]
  },
  {
   "cell_type": "code",
   "execution_count": 5,
   "metadata": {},
   "outputs": [],
   "source": [
    "\n",
    "\n",
    "def my_lu(a):\n",
    "    '''Takes a square matrix and returns it's L U decomposition'''\n",
    "    eps = 1e-16\n",
    "    if a.shape[0] != a.shape[1]:\n",
    "        print(\"matrix must be square, instead had shape {}\".format(a.shape))\n",
    "        return\n",
    "    n = a.shape[0] # num rows \n",
    "    # intializing permutor matrix\n",
    "    I = np.eye(n)\n",
    "    P = np.eye(n)\n",
    "    L = np.eye(n)\n",
    "    for c in range(0,n): # only go up to N because we only do elimination in square part\n",
    "    #     #partial pivoting\n",
    "        this_pivot = abs(a[c,c])\n",
    "        maximum = this_pivot\n",
    "        max_r = c\n",
    "        for r in range(c+1,n):\n",
    "            potential_pivot = abs(a[r,c])\n",
    "            if potential_pivot>this_pivot:\n",
    "                maximum = potential_pivot\n",
    "                max_r = r\n",
    "        if max_r!=c: # if we have a swap\n",
    "            # construct row swap matrix\n",
    "            rowswap = np.eye(n)\n",
    "            rowswap[:,(max_r,c)] = rowswap[:,(c,max_r)] # swap corresponding columns to get ith permutor\n",
    "            L = L@rowswap.T # record the fact that the columns were swapped in the L matrix\n",
    "            a = rowswap@a # go home, turn off your spigot, everybody do the partial pivot\n",
    "\n",
    "        for r in range(c+1,n):\n",
    "            piv = a[c,c] # pivot point\n",
    "            entry = a[r,c] # the value we are trying to eliminate\n",
    "            ERO = I.copy()\n",
    "            ERO_inv = I.copy()\n",
    "            ERO[r,c] = -(entry/piv)\n",
    "            ERO_inv[r,c] = (entry/piv) # \"Undoes\" the row operation represented by ERO\n",
    "            a = ERO@a\n",
    "            L = L@ERO_inv\n",
    "\n",
    "    return {'L':L,'U':a}"
   ]
  },
  {
   "cell_type": "code",
   "execution_count": 6,
   "metadata": {
    "title": "Example 6"
   },
   "outputs": [
    {
     "name": "stdout",
     "output_type": "stream",
     "text": [
      "L:\n",
      "array([[ 0.3333, -0.1667,  1.    ],\n",
      "       [ 1.    ,  0.    ,  0.    ],\n",
      "       [ 0.    ,  1.    ,  0.    ]])\n",
      "U:\n",
      "array([[3.    , 8.    , 1.    ],\n",
      "       [0.    , 4.    , 1.    ],\n",
      "       [0.    , 0.    , 0.8333]])\n",
      "\n",
      "Recomposed:\n",
      "[[1. 2. 1.]\n",
      " [3. 8. 1.]\n",
      " [0. 4. 1.]]\n"
     ]
    }
   ],
   "source": [
    "A = np.array([[1,2,1],\\\n",
    "               [3,8,1],\\\n",
    "               [0,4,1]])\n",
    "d = my_lu(A)\n",
    "L = d[\"L\"]\n",
    "U = d[\"U\"]\n",
    "print_dict(d) # note that L is not lower triangular, but permuted lower triangular\n",
    "print(\"Recomposed:\")\n",
    "print(L@U)"
   ]
  },
  {
   "cell_type": "code",
   "execution_count": 7,
   "metadata": {
    "title": "Example 12"
   },
   "outputs": [
    {
     "name": "stdout",
     "output_type": "stream",
     "text": [
      "L:\n",
      "array([[0.6667, 1.    , 0.    ],\n",
      "       [0.3333, 0.5   , 1.    ],\n",
      "       [1.    , 0.    , 0.    ]])\n",
      "U:\n",
      "array([[ 3.    , 14.    , 28.    ],\n",
      "       [ 0.    , -3.3333, -8.6667],\n",
      "       [ 0.    ,  0.    , -2.    ]])\n",
      "\n",
      "Recomposed:\n",
      "[[ 2.  6. 10.]\n",
      " [ 1.  3.  3.]\n",
      " [ 3. 14. 28.]]\n"
     ]
    }
   ],
   "source": [
    "A = np.array([[2,6,10],\\\n",
    "               [1,3,3],\\\n",
    "               [3,14,28]])\n",
    "d = my_lu(A)\n",
    "L = d[\"L\"]\n",
    "U = d[\"U\"]\n",
    "print_dict(d)\n",
    "print(\"Recomposed:\")\n",
    "print(L@U)"
   ]
  },
  {
   "cell_type": "markdown",
   "metadata": {
    "lines_to_next_cell": 0
   },
   "source": [
    "# Testing NumPy Orthogonalization"
   ]
  },
  {
   "cell_type": "code",
   "execution_count": 8,
   "metadata": {
    "lines_to_next_cell": 0
   },
   "outputs": [
    {
     "data": {
      "text/plain": [
       "array([[17., 24.,  1.,  8., 15.],\n",
       "       [23.,  5.,  7., 14., 16.],\n",
       "       [ 4.,  6., 13., 20., 22.],\n",
       "       [10., 12., 19., 21.,  3.],\n",
       "       [11., 18., 25.,  2.,  9.]])"
      ]
     },
     "execution_count": 8,
     "metadata": {},
     "output_type": "execute_result"
    }
   ],
   "source": [
    "\n",
    "# Yanked from stackoverflow :)\n",
    "# https://stackoverflow.com/questions/47834140/numpy-equivalent-of-matlabs-magic\n",
    "def magic(n):\n",
    "  n = int(n)\n",
    "  if n < 3:\n",
    "    raise ValueError(\"Size must be at least 3\")\n",
    "  if n % 2 == 1:\n",
    "    p = np.arange(1, n+1)\n",
    "    return (n*np.mod(p[:, None] + p - (n+3)//2, n) + np.mod(p[:, None] + 2*p-2, n) + 1).astype(float)\n",
    "  elif n % 4 == 0:\n",
    "    J = np.mod(np.arange(1, n+1), 4) // 2\n",
    "    K = J[:, None] == J\n",
    "    M = np.arange(1, n*n+1, n)[:, None] + np.arange(n)\n",
    "    M[K] = n*n + 1 - M[K]\n",
    "  else:\n",
    "    p = n//2\n",
    "    M = magic(p)\n",
    "    M = np.block([[M, M+2*p*p], [M+3*p*p, M+p*p]])\n",
    "    i = np.arange(p)\n",
    "    k = (n-2)//4\n",
    "    j = np.concatenate((np.arange(k), np.arange(n-k+1, n)))\n",
    "    M[np.ix_(np.concatenate((i, i+p)), j)] = M[np.ix_(np.concatenate((i+p, i)), j)]\n",
    "    M[np.ix_([k, k+p], [0, k])] = M[np.ix_([k+p, k], [0, k])]\n",
    "  return M.astype(float) # changing the output of this to be of type float to make visual comparisons easier\n",
    "\n",
    "mag = magic(5)\n",
    "mag"
   ]
  },
  {
   "cell_type": "code",
   "execution_count": 9,
   "metadata": {
    "lines_to_next_cell": 2
   },
   "outputs": [
    {
     "name": "stdout",
     "output_type": "stream",
     "text": [
      "Original Matrix:\n",
      "[[8. 1. 6.]\n",
      " [3. 5. 7.]\n",
      " [4. 9. 2.]]\n",
      "Recomposed from QR decomposition:\n",
      "[[8. 1. 6.]\n",
      " [3. 5. 7.]\n",
      " [4. 9. 2.]]\n",
      "Original Matrix:\n",
      "[[17. 24.  1.  8. 15.]\n",
      " [23.  5.  7. 14. 16.]\n",
      " [ 4.  6. 13. 20. 22.]\n",
      " [10. 12. 19. 21.  3.]\n",
      " [11. 18. 25.  2.  9.]]\n",
      "Recomposed from QR decomposition:\n",
      "[[17. 24.  1.  8. 15.]\n",
      " [23.  5.  7. 14. 16.]\n",
      " [ 4.  6. 13. 20. 22.]\n",
      " [10. 12. 19. 21.  3.]\n",
      " [11. 18. 25.  2.  9.]]\n",
      "Original Matrix:\n",
      "[[ 92.  99.   1.   8.  15.  67.  74.  51.  58.  40.]\n",
      " [ 98.  80.   7.  14.  16.  73.  55.  57.  64.  41.]\n",
      " [  4.  81.  88.  20.  22.  54.  56.  63.  70.  47.]\n",
      " [ 85.  87.  19.  21.   3.  60.  62.  69.  71.  28.]\n",
      " [ 86.  93.  25.   2.   9.  61.  68.  75.  52.  34.]\n",
      " [ 17.  24.  76.  83.  90.  42.  49.  26.  33.  65.]\n",
      " [ 23.   5.  82.  89.  91.  48.  30.  32.  39.  66.]\n",
      " [ 79.   6.  13.  95.  97.  29.  31.  38.  45.  72.]\n",
      " [ 10.  12.  94.  96.  78.  35.  37.  44.  46.  53.]\n",
      " [ 11.  18. 100.  77.  84.  36.  43.  50.  27.  59.]]\n",
      "Recomposed from QR decomposition:\n",
      "[[ 92.  99.   1.   8.  15.  67.  74.  51.  58.  40.]\n",
      " [ 98.  80.   7.  14.  16.  73.  55.  57.  64.  41.]\n",
      " [  4.  81.  88.  20.  22.  54.  56.  63.  70.  47.]\n",
      " [ 85.  87.  19.  21.   3.  60.  62.  69.  71.  28.]\n",
      " [ 86.  93.  25.   2.   9.  61.  68.  75.  52.  34.]\n",
      " [ 17.  24.  76.  83.  90.  42.  49.  26.  33.  65.]\n",
      " [ 23.   5.  82.  89.  91.  48.  30.  32.  39.  66.]\n",
      " [ 79.   6.  13.  95.  97.  29.  31.  38.  45.  72.]\n",
      " [ 10.  12.  94.  96.  78.  35.  37.  44.  46.  53.]\n",
      " [ 11.  18. 100.  77.  84.  36.  43.  50.  27.  59.]]\n"
     ]
    }
   ],
   "source": [
    "# Comparing Q*R for Q and R produced by Numpy function for QR decomposition to original matrix\n",
    "# for magic matricies with 3,5 and 10 entries\n",
    "for size in [3,5,10]:\n",
    "    m = magic(size)\n",
    "    q,r = np.linalg.qr(m)\n",
    "    print(\"Original Matrix:\\n{}\".format(m))\n",
    "    print(\"Recomposed from QR decomposition:\\n{}\".format(q@r))"
   ]
  },
  {
   "cell_type": "markdown",
   "metadata": {
    "lines_to_next_cell": 0
   },
   "source": [
    "The two are equivalent.\n",
    "Showing that column vectors of Q are orthogonal:"
   ]
  },
  {
   "cell_type": "code",
   "execution_count": 10,
   "metadata": {
    "lines_to_next_cell": 0
   },
   "outputs": [
    {
     "name": "stdout",
     "output_type": "stream",
     "text": [
      "Column 0: [-0.5234 -0.7081 -0.1231 -0.3079 -0.3387]\n",
      "Column 1: [ 0.5058 -0.6966  0.1367  0.1911  0.4514]\n",
      "Column 0 dot Column 1: -5.551115123125783e-17\n",
      "\n",
      "Column 0: [-0.5234 -0.7081 -0.1231 -0.3079 -0.3387]\n",
      "Column 2: [ 0.6735 -0.0177 -0.3558 -0.4122 -0.4996]\n",
      "Column 0 dot Column 2: 0.0\n",
      "\n",
      "Column 0: [-0.5234 -0.7081 -0.1231 -0.3079 -0.3387]\n",
      "Column 3: [-0.1215  0.0815 -0.6307 -0.4247  0.6328]\n",
      "Column 0 dot Column 3: -2.7755575615628914e-17\n",
      "\n",
      "Column 0: [-0.5234 -0.7081 -0.1231 -0.3079 -0.3387]\n",
      "Column 4: [-0.0441 -0.08   -0.6646  0.72   -0.1774]\n",
      "Column 0 dot Column 4: 1.3877787807814457e-17\n",
      "\n",
      "Column 1: [ 0.5058 -0.6966  0.1367  0.1911  0.4514]\n",
      "Column 2: [ 0.6735 -0.0177 -0.3558 -0.4122 -0.4996]\n",
      "Column 1 dot Column 2: 5.551115123125783e-17\n",
      "\n",
      "Column 1: [ 0.5058 -0.6966  0.1367  0.1911  0.4514]\n",
      "Column 3: [-0.1215  0.0815 -0.6307 -0.4247  0.6328]\n",
      "Column 1 dot Column 3: 5.551115123125783e-17\n",
      "\n",
      "Column 1: [ 0.5058 -0.6966  0.1367  0.1911  0.4514]\n",
      "Column 4: [-0.0441 -0.08   -0.6646  0.72   -0.1774]\n",
      "Column 1 dot Column 4: 2.7755575615628914e-17\n",
      "\n",
      "Column 2: [ 0.6735 -0.0177 -0.3558 -0.4122 -0.4996]\n",
      "Column 3: [-0.1215  0.0815 -0.6307 -0.4247  0.6328]\n",
      "Column 2 dot Column 3: -1.1102230246251565e-16\n",
      "\n",
      "Column 2: [ 0.6735 -0.0177 -0.3558 -0.4122 -0.4996]\n",
      "Column 4: [-0.0441 -0.08   -0.6646  0.72   -0.1774]\n",
      "Column 2 dot Column 4: -4.163336342344337e-17\n",
      "\n",
      "Column 3: [-0.1215  0.0815 -0.6307 -0.4247  0.6328]\n",
      "Column 4: [-0.0441 -0.08   -0.6646  0.72   -0.1774]\n",
      "Column 3 dot Column 4: 1.249000902703301e-16\n",
      "\n"
     ]
    }
   ],
   "source": [
    "q,r = np.linalg.qr(mag)\n",
    "from itertools import combinations\n",
    "for a,b in combinations(list(range(5)),2):\n",
    "    print(\"Column {}: {}\".format(a,q[:,a]))\n",
    "    print(\"Column {}: {}\".format(b,q[:,b]))\n",
    "    print(\"Column {} dot Column {}: {}\\n\".format(a,b,q[:,a]@q[:,b]))"
   ]
  },
  {
   "cell_type": "markdown",
   "metadata": {
    "lines_to_next_cell": 0
   },
   "source": [
    "# Testing NumPy Eigenvalue Solving"
   ]
  },
  {
   "cell_type": "code",
   "execution_count": 11,
   "metadata": {
    "lines_to_next_cell": 0
   },
   "outputs": [
    {
     "name": "stdout",
     "output_type": "stream",
     "text": [
      "array([ 65.    , -21.2768, -13.1263,  21.2768,  13.1263])\n",
      "array([[-0.4472,  0.0976, -0.633 ,  0.678 , -0.2619],\n",
      "       [-0.4472,  0.3525,  0.5895,  0.3223, -0.1732],\n",
      "       [-0.4472,  0.5501, -0.3915, -0.5501,  0.3915],\n",
      "       [-0.4472, -0.3223,  0.1732, -0.3525, -0.5895],\n",
      "       [-0.4472, -0.678 ,  0.2619, -0.0976,  0.633 ]])\n"
     ]
    }
   ],
   "source": [
    "eig_vals,eig_vecs = np.linalg.eig(mag)\n",
    "pprint(eig_vals)\n",
    "pprint(eig_vecs)"
   ]
  },
  {
   "cell_type": "markdown",
   "metadata": {
    "lines_to_next_cell": 0
   },
   "source": [
    "Comparing $ A x $ and $ \\lambda x $ "
   ]
  },
  {
   "cell_type": "code",
   "execution_count": 12,
   "metadata": {},
   "outputs": [
    {
     "name": "stdout",
     "output_type": "stream",
     "text": [
      "0/ Value of |A*v|: [-29.0689 -29.0689 -29.0689 -29.0689 -29.0689]\n",
      "0/ Value of λ:     [-29.0689 -29.0689 -29.0689 -29.0689 -29.0689]\n",
      "1/ Value of |A*v|: [ -2.0775  -7.5009 -11.7046   6.8571  14.4259]\n",
      "1/ Value of λ:     [ -2.0775  -7.5009 -11.7046   6.8571  14.4259]\n",
      "2/ Value of |A*v|: [ 8.3086 -7.7377  5.1393 -2.273  -3.4373]\n",
      "2/ Value of λ:     [ 8.3086 -7.7377  5.1393 -2.273  -3.4373]\n",
      "3/ Value of |A*v|: [ 14.4259   6.8571 -11.7046  -7.5009  -2.0775]\n",
      "3/ Value of λ:     [ 14.4259   6.8571 -11.7046  -7.5009  -2.0775]\n",
      "4/ Value of |A*v|: [-3.4373 -2.273   5.1393 -7.7377  8.3086]\n",
      "4/ Value of λ:     [-3.4373 -2.273   5.1393 -7.7377  8.3086]\n"
     ]
    }
   ],
   "source": [
    "for i in range(mag.shape[0]):\n",
    "    print(\"{}/ Value of |A*v|: {}\".format(i,mag@eig_vecs[:,i]))\n",
    "    print(\"{}/ Value of λ:     {}\".format(i,eig_vals[i]*eig_vecs[:,i]))"
   ]
  }
 ],
 "metadata": {
  "jupytext": {
   "main_language": "python",
   "text_representation": {
    "extension": ".py",
    "format_name": "percent"
   }
  },
  "language_info": {
   "codemirror_mode": {
    "name": "ipython",
    "version": 3
   },
   "file_extension": ".py",
   "mimetype": "text/x-python",
   "name": "python",
   "nbconvert_exporter": "python",
   "pygments_lexer": "ipython3",
   "version": "3.7.1"
  }
 },
 "nbformat": 4,
 "nbformat_minor": 2
}
